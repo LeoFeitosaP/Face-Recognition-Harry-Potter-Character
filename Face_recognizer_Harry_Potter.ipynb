{
  "nbformat": 4,
  "nbformat_minor": 0,
  "metadata": {
    "colab": {
      "provenance": [],
      "authorship_tag": "ABX9TyOoeSxzHu2l7gVjTHpwyygK",
      "include_colab_link": true
    },
    "kernelspec": {
      "name": "python3",
      "display_name": "Python 3"
    },
    "language_info": {
      "name": "python"
    }
  },
  "cells": [
    {
      "cell_type": "markdown",
      "metadata": {
        "id": "view-in-github",
        "colab_type": "text"
      },
      "source": [
        "<a href=\"https://colab.research.google.com/github/LeoFeitosaP/Face-Recognition-Harry-Potter-Character/blob/main/Face_recognizer_Harry_Potter.ipynb\" target=\"_parent\"><img src=\"https://colab.research.google.com/assets/colab-badge.svg\" alt=\"Open In Colab\"/></a>"
      ]
    },
    {
      "cell_type": "code",
      "execution_count": null,
      "metadata": {
        "id": "VKQZk55QtPIu"
      },
      "outputs": [],
      "source": [
        "#install dependencies\n",
        "!pip install pillow==8.3.2\n",
        "!pip install fastapi kaleido python-multipart uvicorn\n",
        "!git clone https://github.com/ultralytics/yolov5\n",
        "%cd yolov5\n",
        "%pip install -qr requirements.txt\n",
        "%pip install -q roboflow\n",
        "!pip install roboflow"
      ]
    },
    {
      "cell_type": "code",
      "source": [
        "#making necessary imports\n",
        "import torch\n",
        "import os\n",
        "from IPython.display import Image, clear_output\n",
        "import os\n",
        "from roboflow import Roboflow\n",
        "import glob\n",
        "from IPython.display import Image, display\n",
        "\n",
        "print(f\"Setup complete. Using torch {torch.__version__} ({torch.cuda.get_device_properties(0).name if torch.cuda.is_available() else 'CPU'})\")"
      ],
      "metadata": {
        "id": "6rpLGadKtm3E"
      },
      "execution_count": null,
      "outputs": []
    },
    {
      "cell_type": "code",
      "source": [
        "os.environ[\"DATASET_DIRECTORY\"] = \"/datasets\""
      ],
      "metadata": {
        "id": "8MVSHxhquNTx"
      },
      "execution_count": null,
      "outputs": []
    },
    {
      "cell_type": "code",
      "source": [
        "#importing Harry Potter dataset\n",
        "rf = Roboflow(api_key=\"nO5BDyHKdjmd0cPuC0Jr\")\n",
        "project = rf.workspace(\"finalproject-vla5a\").project(\"final-project-bounding-box\")\n",
        "dataset = project.version(1).download(\"yolov5\")"
      ],
      "metadata": {
        "id": "S1izHoXruj1t"
      },
      "execution_count": null,
      "outputs": []
    },
    {
      "cell_type": "code",
      "source": [
        "#training the model\n",
        "!python train.py --img 416 --batch 16 --epochs 300 --data {dataset.location}/data.yaml --weights yolov5s.pt --cache"
      ],
      "metadata": {
        "id": "haXQmuz3umYl"
      },
      "execution_count": null,
      "outputs": []
    },
    {
      "cell_type": "code",
      "source": [
        "#getting weighs\n",
        "!python detect.py --weights runs/train/exp/weights/best.pt --img 416 --conf 0.1 --source {dataset.location}/test/images\n"
      ],
      "metadata": {
        "id": "GiHFi3hQutbI"
      },
      "execution_count": null,
      "outputs": []
    },
    {
      "cell_type": "code",
      "source": [
        "#print results\n",
        "for imageName in glob.glob('/content/yolov5/runs/detect/exp/*.jpg'): #assuming JPG\n",
        "    display(Image(filename=imageName))\n",
        "    print(\"\\n\")"
      ],
      "metadata": {
        "id": "wzAO4sm-u3d-"
      },
      "execution_count": null,
      "outputs": []
    }
  ]
}